{
 "cells": [
  {
   "cell_type": "code",
   "execution_count": null,
   "id": "80a87bd9",
   "metadata": {},
   "outputs": [],
   "source": [
    "from selenium import webdriver\n",
    "from selenium.webdriver.chrome.service import Service\n",
    "from webdriver_manager.chrome import ChromeDriverManager\n",
    "import time\n",
    "import pandas as pd"
   ]
  },
  {
   "cell_type": "code",
   "execution_count": null,
   "id": "475c5e99",
   "metadata": {},
   "outputs": [],
   "source": [
    "driver = webdriver.Chrome(service = Service(ChromeDriverManager().install()))\n",
    "\n",
    "url = \"https://www.etf.com/etfanalytics/etf-finder\"\n",
    "\n",
    "driver.get(url)\n",
    "\n",
    "time.sleep(5)\n",
    "\n",
    "botao_100 = driver.find_element(\"xpath\", '''html/body/div[5]/section/div/div[3]/section/div\n",
    "                                                /div/div/div/div[2]/\n",
    "                                section[2]/div[2]/section[2]/div[1]/div/div[4]/button/label/span''')\n",
    "\n",
    "driver.execute_script(\"arguments[0].click();\", botao_100)\n",
    "\n",
    "numero_paginas = driver.find_element(\"xpath\", '''/html/body/div[5]/section/div/div[3]/\n",
    "section/div/div/div/div/div[2]/section[2]/div[2]/section[2]/div[2]/div/label[2]''')\n",
    "\n",
    "numero_paginas = numero_paginas.text.replace(\"of \", \"\")\n",
    "\n",
    "numero_paginas = int(numero_paginas)\n",
    "\n",
    "lista_de_tabela_por_pagina = []\n",
    "\n",
    "for pagina in range(0, numero_paginas):\n",
    "    \n",
    "    tabela = driver.find_element(\"xpath\", '''/html/body/div[5]/section/div/div[3]/section/div/\n",
    "                                    div/div/div/div[2]/section[2]/div[2]/div/table''')\n",
    "\n",
    "    html_tabela = tabela.get_attribute(\"outerHTML\")\n",
    "\n",
    "    tabela_final = pd.read_html(html_tabela)[0]\n",
    "    \n",
    "    lista_de_tabela_por_pagina.append(tabela_final)\n",
    "    \n",
    "    botao_avancar_pagina = driver.find_element(\"xpath\", '//*[@id=\"nextPage\"]')\n",
    "    \n",
    "    driver.execute_script(\"arguments[0].click();\", botao_avancar_pagina)\n",
    "    \n",
    "\n",
    "base_de_dados_completa = pd.concat(lista_de_tabela_por_pagina)\n",
    "\n",
    "botao_aba = driver.find_element(\"xpath\", ''' /html/body/div[5]/section/div/div[3]/section/div/div/div/div/\n",
    "div[2]/section[2]/div[2]/ul/li[2]/span''')\n",
    "\n",
    "driver.execute_script(\"arguments[0].click();\", botao_aba)\n",
    "\n",
    "#voltando a 1 página\n",
    "\n",
    "for pagina in range(0, numero_paginas):\n",
    "    \n",
    "    botao_voltar_pagina = driver.find_element(\"xpath\", '//*[@id=\"previousPage\"]')\n",
    "    \n",
    "    driver.execute_script(\"arguments[0].click();\", botao_voltar_pagina)\n",
    "    \n",
    "    \n",
    "lista_de_tabela_por_pagina = []\n",
    "\n",
    "for pagina in range(0, numero_paginas):\n",
    "    \n",
    "    tabela = driver.find_element(\"xpath\", '''/html/body/div[5]/section/div/div[3]/section/div/\n",
    "                                    div/div/div/div[2]/section[2]/div[2]/div/table''')\n",
    "\n",
    "    html_tabela = tabela.get_attribute(\"outerHTML\")\n",
    "\n",
    "    tabela_final = pd.read_html(html_tabela)[0]\n",
    "    \n",
    "    lista_de_tabela_por_pagina.append(tabela_final)\n",
    "    \n",
    "    botao_avancar_pagina = driver.find_element(\"xpath\", '//*[@id=\"nextPage\"]')\n",
    "    \n",
    "    driver.execute_script(\"arguments[0].click();\", botao_avancar_pagina)\n",
    "    \n",
    "\n",
    "base_de_dados_performance = pd.concat(lista_de_tabela_por_pagina)\n",
    "\n",
    "driver.quit()"
   ]
  },
  {
   "cell_type": "code",
   "execution_count": null,
   "id": "656f027f",
   "metadata": {},
   "outputs": [],
   "source": [
    "base_de_dados_completa = base_de_dados_completa.set_index('Ticker')\n",
    "base_de_dados_performance = base_de_dados_performance.set_index(\"Ticker\")"
   ]
  },
  {
   "cell_type": "code",
   "execution_count": null,
   "id": "1e09abf7",
   "metadata": {},
   "outputs": [],
   "source": [
    "base_de_dados_performance"
   ]
  },
  {
   "cell_type": "code",
   "execution_count": null,
   "id": "0efc9526",
   "metadata": {},
   "outputs": [],
   "source": [
    "base_de_dados_performance = base_de_dados_performance[['3 Years', '5 Years', '10 Years']]\n",
    "\n",
    "base_de_dados_performance"
   ]
  },
  {
   "cell_type": "code",
   "execution_count": null,
   "id": "8074c0c9",
   "metadata": {},
   "outputs": [],
   "source": [
    "base_de_dados_performance = base_de_dados_performance.replace(\"--\", pd.NA)\n",
    "\n",
    "base_de_dados_performance"
   ]
  },
  {
   "cell_type": "code",
   "execution_count": null,
   "id": "3cb8accd",
   "metadata": {},
   "outputs": [],
   "source": [
    "base_de_dados_performance = base_de_dados_performance.dropna()\n",
    "\n",
    "base_de_dados_performance"
   ]
  },
  {
   "cell_type": "code",
   "execution_count": null,
   "id": "4a5d2e2b",
   "metadata": {},
   "outputs": [],
   "source": [
    "base_de_dados_performance['3 Years'] = (base_de_dados_performance['3 Years'].\n",
    "                                        str.rstrip('%').astype(float)/100)\n",
    "\n",
    "base_de_dados_performance['5 Years'] = (base_de_dados_performance['5 Years'].\n",
    "                                        str.rstrip('%').astype(float)/100)\n",
    "\n",
    "base_de_dados_performance['10 Years'] = (base_de_dados_performance['10 Years'].\n",
    "                                        str.rstrip('%').astype(float)/100)\n",
    "\n",
    "base_de_dados_performance"
   ]
  },
  {
   "cell_type": "code",
   "execution_count": null,
   "id": "fa1dda45",
   "metadata": {},
   "outputs": [],
   "source": [
    "base_de_dados_final = base_de_dados_completa.join(base_de_dados_performance, how = \"inner\")\n",
    "\n",
    "base_de_dados_final"
   ]
  },
  {
   "cell_type": "code",
   "execution_count": null,
   "id": "9757b28e",
   "metadata": {},
   "outputs": [],
   "source": [
    "base_de_dados_final = base_de_dados_final[~base_de_dados_final['Segment'].str.contains(\"Leveraged\")]\n",
    "\n",
    "base_de_dados_final"
   ]
  },
  {
   "cell_type": "code",
   "execution_count": null,
   "id": "c9ddbbe4",
   "metadata": {},
   "outputs": [],
   "source": [
    "base_de_dados_final['rank_3_anos'] = base_de_dados_final['3 Years'].rank(ascending = False)\n",
    "base_de_dados_final['rank_5_anos'] = base_de_dados_final['5 Years'].rank(ascending = False)\n",
    "base_de_dados_final['rank_10_anos'] = base_de_dados_final['10 Years'].rank(ascending = False)\n",
    "\n",
    "base_de_dados_final"
   ]
  },
  {
   "cell_type": "code",
   "execution_count": null,
   "id": "54be6ab4",
   "metadata": {},
   "outputs": [],
   "source": [
    "base_de_dados_final['rank_final'] =  (base_de_dados_final['rank_3_anos'] + \n",
    "                                      base_de_dados_final['rank_5_anos'] + \n",
    "                                      base_de_dados_final['rank_10_anos'])\n",
    "\n",
    "base_de_dados_final"
   ]
  },
  {
   "cell_type": "code",
   "execution_count": null,
   "id": "febcd56a",
   "metadata": {},
   "outputs": [],
   "source": [
    "melhores_etfs = base_de_dados_final.sort_values(by = \"rank_final\")\n",
    "\n",
    "melhores_etfs"
   ]
  },
  {
   "cell_type": "code",
   "execution_count": null,
   "id": "83d5a762",
   "metadata": {},
   "outputs": [],
   "source": [
    "melhores_etfs.head(10)"
   ]
  }
 ],
 "metadata": {
  "kernelspec": {
   "display_name": "Python 3",
   "language": "python",
   "name": "python3"
  },
  "language_info": {
   "codemirror_mode": {
    "name": "ipython",
    "version": 3
   },
   "file_extension": ".py",
   "mimetype": "text/x-python",
   "name": "python",
   "nbconvert_exporter": "python",
   "pygments_lexer": "ipython3",
   "version": "3.9.2"
  },
  "vscode": {
   "interpreter": {
    "hash": "11938c6bc6919ae2720b4d5011047913343b08a43b18698fd82dedb0d4417594"
   }
  }
 },
 "nbformat": 4,
 "nbformat_minor": 5
}
