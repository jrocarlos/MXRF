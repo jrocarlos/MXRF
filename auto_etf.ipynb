{
 "cells": [
  {
   "cell_type": "code",
   "execution_count": null,
   "id": "d540c01d",
   "metadata": {},
   "outputs": [],
   "source": [
    "#pip install webdriver-manager\n",
    "#pip install selenium\n",
    "#pip install html5lib"
   ]
  },
  {
   "cell_type": "code",
   "execution_count": null,
   "id": "c7f7a23e",
   "metadata": {
    "scrolled": true
   },
   "outputs": [],
   "source": [
    "from selenium import webdriver\n",
    "from selenium.webdriver.chrome.service import Service\n",
    "from webdriver_manager.chrome import ChromeDriverManager\n",
    "import time\n",
    "import pandas as pd"
   ]
  },
  {
   "cell_type": "code",
   "execution_count": null,
   "id": "533e215d",
   "metadata": {},
   "outputs": [],
   "source": [
    "driver = webdriver.Chrome(service = Service(ChromeDriverManager().install()))\n",
    "\n",
    "url = \"https://www.etf.com/etfanalytics/etf-finder\"\n",
    "\n",
    "driver.get(url)"
   ]
  },
  {
   "cell_type": "code",
   "execution_count": null,
   "id": "0c3294a0",
   "metadata": {},
   "outputs": [],
   "source": [
    "time.sleep(5)\n",
    "\n",
    "botao_100 = driver.find_element(\"xpath\", '''html/body/div[5]/section/div/div[3]/section/div\n",
    "                                                /div/div/div/div[2]/\n",
    "                                section[2]/div[2]/section[2]/div[1]/div/div[4]/button/label/span''')\n",
    "\n",
    "driver.execute_script(\"arguments[0].click();\", botao_100)"
   ]
  },
  {
   "cell_type": "code",
   "execution_count": null,
   "id": "22ab5688",
   "metadata": {},
   "outputs": [],
   "source": [
    "numero_paginas = driver.find_element(\"xpath\", '''/html/body/div[5]/section/div/div[3]/\n",
    "section/div/div/div/div/div[2]/section[2]/div[2]/section[2]/div[2]/div/label[2]''')\n",
    "\n",
    "numero_paginas = numero_paginas.text.replace(\"of \", \"\")\n",
    "\n",
    "numero_paginas = int(numero_paginas)\n",
    "\n",
    "print(numero_paginas)"
   ]
  },
  {
   "cell_type": "code",
   "execution_count": null,
   "id": "808cf90b",
   "metadata": {},
   "outputs": [],
   "source": [
    "lista_de_tabela_por_pagina = []\n",
    "\n",
    "for pagina in range(0, numero_paginas):\n",
    "    \n",
    "    tabela = driver.find_element(\"xpath\", '''/html/body/div[5]/section/div/div[3]/section/div/\n",
    "                                    div/div/div/div[2]/section[2]/div[2]/div/table''')\n",
    "\n",
    "    html_tabela = tabela.get_attribute(\"outerHTML\")\n",
    "\n",
    "    tabela_final = pd.read_html(html_tabela)[0]\n",
    "    \n",
    "    lista_de_tabela_por_pagina.append(tabela_final)\n",
    "    \n",
    "    botao_avancar_pagina = driver.find_element(\"xpath\", '//*[@id=\"nextPage\"]')\n",
    "    \n",
    "    driver.execute_script(\"arguments[0].click();\", botao_avancar_pagina)\n",
    "    \n",
    "\n",
    "base_de_dados_completa = pd.concat(lista_de_tabela_por_pagina)\n",
    "\n",
    "display(base_de_dados_completa)"
   ]
  },
  {
   "cell_type": "code",
   "execution_count": null,
   "id": "843de731",
   "metadata": {},
   "outputs": [],
   "source": [
    "#primeira coisa é mudar a aba\n",
    "\n",
    "botao_aba = driver.find_element(\"xpath\", ''' /html/body/div[5]/section/div/div[3]/section/div/div/div/div/\n",
    "div[2]/section[2]/div[2]/ul/li[2]/span''')\n",
    "\n",
    "driver.execute_script(\"arguments[0].click();\", botao_aba)\n",
    "\n",
    "#voltando a 1 página\n",
    "\n",
    "for pagina in range(0, numero_paginas):\n",
    "    \n",
    "    botao_voltar_pagina = driver.find_element(\"xpath\", '//*[@id=\"previousPage\"]')\n",
    "    \n",
    "    driver.execute_script(\"arguments[0].click();\", botao_voltar_pagina)"
   ]
  },
  {
   "cell_type": "code",
   "execution_count": null,
   "id": "d13e5f58",
   "metadata": {
    "scrolled": true
   },
   "outputs": [],
   "source": [
    "lista_de_tabela_por_pagina = []\n",
    "\n",
    "for pagina in range(0, numero_paginas):\n",
    "    \n",
    "    tabela = driver.find_element(\"xpath\", '''/html/body/div[5]/section/div/div[3]/section/div/\n",
    "                                    div/div/div/div[2]/section[2]/div[2]/div/table''')\n",
    "\n",
    "    html_tabela = tabela.get_attribute(\"outerHTML\")\n",
    "\n",
    "    tabela_final = pd.read_html(html_tabela)[0]\n",
    "    \n",
    "    lista_de_tabela_por_pagina.append(tabela_final)\n",
    "    \n",
    "    botao_avancar_pagina = driver.find_element(\"xpath\", '//*[@id=\"nextPage\"]')\n",
    "    \n",
    "    driver.execute_script(\"arguments[0].click();\", botao_avancar_pagina)\n",
    "    \n",
    "\n",
    "base_de_dados_performance = pd.concat(lista_de_tabela_por_pagina)\n",
    "\n"
   ]
  },
  {
   "cell_type": "code",
   "execution_count": null,
   "id": "d9861094",
   "metadata": {},
   "outputs": [],
   "source": [
    "driver.quit()"
   ]
  },
  {
   "cell_type": "code",
   "execution_count": null,
   "id": "019300db",
   "metadata": {},
   "outputs": [],
   "source": [
    "base_de_dados_performance"
   ]
  },
  {
   "cell_type": "code",
   "execution_count": null,
   "id": "55a90b4d",
   "metadata": {},
   "outputs": [],
   "source": [
    "base_de_dados_completa = base_de_dados_completa.set_index(\"Ticker\")\n",
    "\n",
    "base_de_dados_completa"
   ]
  },
  {
   "cell_type": "code",
   "execution_count": null,
   "id": "be882412",
   "metadata": {},
   "outputs": [],
   "source": [
    "base_de_dados_performance = base_de_dados_performance.set_index(\"Ticker\")\n",
    "base_de_dados_performance = base_de_dados_performance[['1 Year', '5 Years', '10 Years']]\n",
    "\n",
    "base_de_dados_performance"
   ]
  },
  {
   "cell_type": "code",
   "execution_count": null,
   "id": "17f94b1b",
   "metadata": {},
   "outputs": [],
   "source": [
    "base_de_dados_final = base_de_dados_completa.join(base_de_dados_performance)"
   ]
  },
  {
   "cell_type": "code",
   "execution_count": null,
   "id": "f5aacfb5",
   "metadata": {},
   "outputs": [],
   "source": [
    "display(base_de_dados_completa)\n",
    "display(base_de_dados_performance)"
   ]
  },
  {
   "cell_type": "code",
   "execution_count": null,
   "id": "a5125e1a",
   "metadata": {},
   "outputs": [],
   "source": [
    "base_de_dados_final"
   ]
  }
 ],
 "metadata": {
  "kernelspec": {
   "display_name": "Python 3",
   "language": "python",
   "name": "python3"
  },
  "language_info": {
   "codemirror_mode": {
    "name": "ipython",
    "version": 3
   },
   "file_extension": ".py",
   "mimetype": "text/x-python",
   "name": "python",
   "nbconvert_exporter": "python",
   "pygments_lexer": "ipython3",
   "version": "3.9.2"
  },
  "vscode": {
   "interpreter": {
    "hash": "11938c6bc6919ae2720b4d5011047913343b08a43b18698fd82dedb0d4417594"
   }
  }
 },
 "nbformat": 4,
 "nbformat_minor": 5
}
