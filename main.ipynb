{
 "cells": [
  {
   "cell_type": "code",
   "execution_count": null,
   "metadata": {},
   "outputs": [],
   "source": [
    "import pandas as pd\n",
    "import datetime\n",
    "import yfinance as yf\n",
    "from matplotlib import pyplot as plt\n",
    "import mplcyberpunk\n",
    "import win32com.client as win32"
   ]
  },
  {
   "cell_type": "code",
   "execution_count": null,
   "metadata": {},
   "outputs": [],
   "source": [
    "#!pip install pywin32"
   ]
  },
  {
   "cell_type": "code",
   "execution_count": null,
   "metadata": {},
   "outputs": [],
   "source": [
    "codigos_de_negociacao = [\"^BVSP\", \"BRL=X\"]  \n",
    "\n",
    "hoje = datetime.datetime.now()\n",
    "um_ano_atras = hoje - datetime.timedelta(days = 365)\n",
    "\n",
    "dados_mercado = yf.download(codigos_de_negociacao, um_ano_atras, hoje)\n",
    "\n",
    "display(dados_mercado)"
   ]
  },
  {
   "cell_type": "code",
   "execution_count": null,
   "metadata": {},
   "outputs": [],
   "source": [
    "dados_fechamento = dados_mercado['Adj Close']\n",
    "\n",
    "dados_fechamento.columns = ['dolar', 'ibovespa']\n",
    "\n",
    "dados_fechamento = dados_fechamento.dropna()\n",
    "\n",
    "dados_fechamento"
   ]
  },
  {
   "cell_type": "code",
   "execution_count": null,
   "metadata": {},
   "outputs": [],
   "source": [
    "dados_anuais = dados_fechamento.resample(\"Y\").last()\n",
    "\n",
    "dados_mensais = dados_fechamento.resample(\"M\").last()\n",
    "\n",
    "dados_anuais"
   ]
  },
  {
   "cell_type": "code",
   "execution_count": null,
   "metadata": {},
   "outputs": [],
   "source": [
    "retorno_anual = dados_anuais.pct_change().dropna()\n",
    "retorno_mensal = dados_mensais.pct_change().dropna()\n",
    "retorno_diario = dados_fechamento.pct_change().dropna()\n",
    "\n",
    "retorno_diario"
   ]
  },
  {
   "cell_type": "code",
   "execution_count": null,
   "metadata": {},
   "outputs": [],
   "source": [
    "# retorno_jan_26_2022 = retorno_diario.loc['2022-01-26', 'dolar']\n",
    "# retorno_jan_26_2022_iloc = retorno_diario.iloc[1, 0]\n",
    "\n",
    "retorno_diario_dolar = retorno_diario.iloc[-1, 0]\n",
    "retorno_diario_ibov = retorno_diario.iloc[-1, 1]\n",
    "\n",
    "retorno_mensal_dolar = retorno_mensal.iloc[-1, 0]\n",
    "retorno_mensal_ibov = retorno_mensal.iloc[-1, 1]\n",
    "\n",
    "retorno_anual_dolar = retorno_anual.iloc[-1, 0]\n",
    "retorno_anual_ibov = retorno_anual.iloc[-1, 1]\n",
    "\n",
    "print(retorno_anual_dolar)\n",
    "display(retorno_anual)"
   ]
  },
  {
   "cell_type": "code",
   "execution_count": null,
   "metadata": {},
   "outputs": [],
   "source": [
    "retorno_diario_dolar = round((retorno_diario_dolar * 100), 2)\n",
    "retorno_diario_ibov = round((retorno_diario_ibov * 100), 2)\n",
    "\n",
    "retorno_mensal_dolar = round((retorno_mensal_dolar * 100), 2)\n",
    "retorno_mensal_ibov = round((retorno_mensal_ibov * 100), 2) \n",
    "\n",
    "retorno_anual_dolar = round((retorno_anual_dolar * 100), 2)\n",
    "retorno_anual_ibov = round((retorno_anual_ibov * 100), 2)"
   ]
  },
  {
   "cell_type": "code",
   "execution_count": null,
   "metadata": {},
   "outputs": [],
   "source": [
    "plt.style.use(\"cyberpunk\")\n",
    "\n",
    "dados_fechamento.plot(y = \"ibovespa\", use_index = True, legend = False)\n",
    "\n",
    "plt.title(\"Ibovespa\")\n",
    "\n",
    "plt.savefig('ibovespa.png', dpi = 300)\n",
    "\n",
    "plt.show()"
   ]
  },
  {
   "cell_type": "code",
   "execution_count": null,
   "metadata": {},
   "outputs": [],
   "source": [
    "plt.style.use(\"cyberpunk\")\n",
    "\n",
    "dados_fechamento.plot(y = \"dolar\", use_index = True, legend = False)\n",
    "\n",
    "plt.title(\"Dolar\")\n",
    "\n",
    "plt.savefig('dolar.png', dpi = 300)\n",
    "\n",
    "plt.show()"
   ]
  },
  {
   "cell_type": "code",
   "execution_count": null,
   "metadata": {},
   "outputs": [],
   "source": [
    "outlook = win32.Dispatch(\"outlook.application\")\n",
    "\n",
    "email = outlook.CreateItem(0)"
   ]
  },
  {
   "cell_type": "code",
   "execution_count": null,
   "metadata": {},
   "outputs": [],
   "source": [
    "email.To = \"brenno@varos.com.br\"\n",
    "email.Subject = \"Relatório Diário\"\n",
    "email.Body = f'''Prezado diretor, segue o relatório diário:\n",
    "\n",
    "Bolsa:\n",
    "\n",
    "No ano o Ibovespa está tendo uma rentabilidade de {retorno_anual_ibov}%, \n",
    "enquanto no mês a rentabilidade é de {retorno_mensal_ibov}%.\n",
    "\n",
    "No último dia útil, o fechamento do Ibovespa foi de {retorno_diario_ibov}%.\n",
    "\n",
    "Dólar:\n",
    "\n",
    "No ano o Dólar está tendo uma rentabilidade de {retorno_anual_dolar}%, \n",
    "enquanto no mês a rentabilidade é de {retorno_mensal_dolar}%.\n",
    "\n",
    "No último dia útil, o fechamento do Dólar foi de {retorno_diario_dolar}%.\n",
    "\n",
    "\n",
    "Abs,\n",
    "\n",
    "O melhor estagiário do mundo\n",
    "\n",
    "'''\n",
    "\n",
    "anexo_ibovespa = r'C:\\Users\\lsiqu\\botcamp202302\\ibovespa.png'\n",
    "anexo_dolar = r'C:\\Users\\lsiqu\\botcamp202302\\dolar.png'\n",
    "\n",
    "email.Attachments.Add(anexo_ibovespa)\n",
    "email.Attachments.Add(anexo_dolar)\n",
    "\n",
    "email.Send()\n"
   ]
  }
 ],
 "metadata": {
  "kernelspec": {
   "display_name": "Python 3",
   "language": "python",
   "name": "python3"
  },
  "language_info": {
   "name": "python",
   "version": "3.9.2"
  },
  "orig_nbformat": 4,
  "vscode": {
   "interpreter": {
    "hash": "11938c6bc6919ae2720b4d5011047913343b08a43b18698fd82dedb0d4417594"
   }
  }
 },
 "nbformat": 4,
 "nbformat_minor": 2
}
