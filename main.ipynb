{
 "cells": [
  {
   "cell_type": "code",
   "execution_count": null,
   "metadata": {},
   "outputs": [],
   "source": [
    "import pandas as pd\n",
    "import datetime\n",
    "import yfinance as yf\n",
    "from matplotlib import pyplot as plt\n",
    "import mplcyberpunk\n",
    "import win32com.client as win32"
   ]
  },
  {
   "cell_type": "code",
   "execution_count": null,
   "metadata": {},
   "outputs": [],
   "source": [
    "#!pip install pywin32"
   ]
  },
  {
   "cell_type": "code",
   "execution_count": null,
   "metadata": {},
   "outputs": [],
   "source": [
    "codigos_de_negociacao = [\"MXRF11.SA\", \"XFIX11.SA\"]  \n",
    "\n",
    "hoje = datetime.datetime.now()\n",
    "um_ano_atras = hoje - datetime.timedelta(days = 365)\n",
    "\n",
    "dados_mercado = yf.download(codigos_de_negociacao, um_ano_atras, hoje)\n",
    "\n",
    "display(dados_mercado)"
   ]
  },
  {
   "cell_type": "code",
   "execution_count": null,
   "metadata": {},
   "outputs": [],
   "source": [
    "dados_fechamento = dados_mercado['Adj Close']\n",
    "\n",
    "dados_fechamento.columns = ['MXRF11', 'XFIX11']\n",
    "\n",
    "dados_fechamento = dados_fechamento.dropna()\n",
    "\n",
    "dados_fechamento"
   ]
  },
  {
   "cell_type": "code",
   "execution_count": null,
   "metadata": {},
   "outputs": [],
   "source": [
    "dados_anuais = dados_fechamento.resample(\"Y\").last()\n",
    "\n",
    "dados_mensais = dados_fechamento.resample(\"M\").last()\n",
    "\n",
    "dados_anuais"
   ]
  },
  {
   "cell_type": "code",
   "execution_count": null,
   "metadata": {},
   "outputs": [],
   "source": [
    "retorno_anual = dados_anuais.pct_change().dropna()\n",
    "retorno_mensal = dados_mensais.pct_change().dropna()\n",
    "retorno_diario = dados_fechamento.pct_change().dropna()\n",
    "\n",
    "retorno_diario"
   ]
  },
  {
   "cell_type": "code",
   "execution_count": null,
   "metadata": {},
   "outputs": [],
   "source": [
    "retorno_anual"
   ]
  },
  {
   "cell_type": "code",
   "execution_count": null,
   "metadata": {},
   "outputs": [],
   "source": [
    "# retorno_jan_26_2022 = retorno_diario.loc['2022-01-26', 'dolar']\n",
    "# retorno_jan_26_2022_iloc = retorno_diario.iloc[1, 0]\n",
    "\n",
    "retorno_diario_mxrf = retorno_diario.iloc[-1, 0]\n",
    "retorno_diario_xfix = retorno_diario.iloc[-1, 1]\n",
    "\n",
    "retorno_mensal_mxrf = retorno_mensal.iloc[-1, 0]\n",
    "retorno_mensal_xfix = retorno_mensal.iloc[-1, 1]\n",
    "\n",
    "retorno_anual_mxrf = retorno_anual.iloc[-1, 0]\n",
    "retorno_anual_xfix = retorno_anual.iloc[-1, 1]\n",
    "\n",
    "print(retorno_anual_xfix)\n",
    "display(retorno_anual)"
   ]
  },
  {
   "cell_type": "code",
   "execution_count": null,
   "metadata": {},
   "outputs": [],
   "source": [
    "retorno_diario_mxrf = round((retorno_diario_mxrf * 100), 2)\n",
    "retorno_diario_xfix = round((retorno_diario_xfix * 100), 2)\n",
    "\n",
    "retorno_mensal_mxrf = round((retorno_mensal_mxrf * 100), 2)\n",
    "retorno_mensal_xfix = round((retorno_mensal_xfix * 100), 2) \n",
    "\n",
    "retorno_anual_mxrf = round((retorno_anual_mxrf * 100), 2)\n",
    "retorno_anual_xfix = round((retorno_anual_xfix * 100), 2)"
   ]
  },
  {
   "cell_type": "code",
   "execution_count": null,
   "metadata": {},
   "outputs": [],
   "source": [
    "plt.style.use(\"cyberpunk\")\n",
    "\n",
    "dados_fechamento.plot(y = \"XFIX11\", use_index = True, legend = False)\n",
    "\n",
    "plt.title(\"XFIX11\")\n",
    "\n",
    "plt.savefig('xfix.png', dpi = 300)\n",
    "\n",
    "plt.show()"
   ]
  },
  {
   "cell_type": "code",
   "execution_count": null,
   "metadata": {},
   "outputs": [],
   "source": [
    "plt.style.use(\"cyberpunk\")\n",
    "\n",
    "dados_fechamento.plot(y = \"MXRF11\", use_index = True, legend = False)\n",
    "\n",
    "plt.title(\"MXRF11\")\n",
    "\n",
    "plt.savefig('mxrf.png', dpi = 300)\n",
    "\n",
    "plt.show()"
   ]
  },
  {
   "cell_type": "code",
   "execution_count": null,
   "metadata": {},
   "outputs": [],
   "source": [
    "dados_fechamento['data'] = dados_fechamento.index\n",
    "dados_fechamento"
   ]
  },
  {
   "cell_type": "code",
   "execution_count": null,
   "metadata": {},
   "outputs": [],
   "source": [
    "plt.style.use(\"cyberpunk\")\n",
    "x = dados_fechamento[\"data\"]\n",
    "y1 = dados_fechamento[\"MXRF11\"]\n",
    "y2 = dados_fechamento[\"XFIX11\"]\n",
    "#dados_fechamento.plot(x = \"data\", y = \"MXRF11\", use_index = True, legend = True)\n",
    "#dados_fechamento.plot(y = \"XFIX11\", use_index = True, legend = True)\n",
    "plt.plot(x, y1, label ='MXRF11')\n",
    "plt.plot(x, y2, label ='XFIX11')\n",
    "plt.legend(loc='upper right')\n",
    "\n",
    "plt.title(\"MXRF11 VS. IFIX\")\n",
    "\n",
    "plt.savefig('versus.png', dpi = 300)\n",
    "\n",
    "plt.show()"
   ]
  },
  {
   "cell_type": "code",
   "execution_count": null,
   "metadata": {},
   "outputs": [],
   "source": [
    "outlook = win32.Dispatch(\"outlook.application\")\n",
    "\n",
    "email = outlook.CreateItem(0)"
   ]
  },
  {
   "cell_type": "code",
   "execution_count": null,
   "metadata": {},
   "outputs": [],
   "source": [
    "email.To = 'jaspioncr@gmail.com'\n",
    "email.Subject = \"MXRF11 - RELATÓRIO DIÁRIO\"\n",
    "email.Body = f'''Prezados, segue o relatório diário:\n",
    "\n",
    "IFIX:\n",
    "\n",
    "No ano o IFIX está tendo uma rentabilidade de {retorno_anual_xfix}%, \n",
    "enquanto no mês a rentabilidade é de {retorno_mensal_xfix}%.\n",
    "\n",
    "No último dia útil, o fechamento do IFIX foi de {retorno_diario_xfix}%.\n",
    "\n",
    "Sobre o ETF XFIX11:\n",
    "O Trend IFIX é o primeiro ETF imobiliário do Brasil, que replica o IFIX, Índices de Fundos de Investimentos Imobiliários, disponível na B3. \n",
    "Criado em 2020, o XFIX11 é gerido pela XP Vista Asset Management.\n",
    "O IFIX é o resultado de uma carteira teórica composta pelas cotas de fundos imobiliários listados no mercado de bolsa e balcão elaborada de acordo com os critérios estabelecidos pela B3.\n",
    "\n",
    "\n",
    "\n",
    "MXRF11:\n",
    "\n",
    "No ano o Dólar está tendo uma rentabilidade de {retorno_anual_mxrf}%, \n",
    "enquanto no mês a rentabilidade é de {retorno_mensal_mxrf}%.\n",
    "\n",
    "No último dia útil, o fechamento do Dólar foi de {retorno_diario_mxrf}%.\n",
    "\n",
    "Sobre o fundo imobiliário MXRF11:\n",
    "O Maxi Renda Fundo de Investimento Imobiliário investe em ativos financeiros com lastro imobiliário como Certificados de Recebíveis Mobiliários (CRI), \n",
    "debêntures, Letras de Crédito Imobiliário (LCI), Letras Hipotecárias (LH) e cotas de fundos de investimento imobiliário.\n",
    "\n",
    "\n",
    "Atenciosamente,\n",
    "\n",
    "Caju!\n",
    "\n",
    "'''\n",
    "\n",
    "anexo_xfix = r'C:\\Users\\admin\\Desktop\\SOFTWARE\\MXRF\\MXRF\\xfix.png'\n",
    "anexo_mxrf = r'C:\\Users\\admin\\Desktop\\SOFTWARE\\MXRF\\MXRF\\mxrf.png'\n",
    "anexo_versus = r'C:\\Users\\admin\\Desktop\\SOFTWARE\\MXRF\\MXRF\\versus.png'\n",
    "\n",
    "email.Attachments.Add(anexo_xfix)\n",
    "email.Attachments.Add(anexo_mxrf)\n",
    "email.Attachments.Add(anexo_versus)\n",
    "\n",
    "email.Send()\n"
   ]
  }
 ],
 "metadata": {
  "kernelspec": {
   "display_name": "Python 3",
   "language": "python",
   "name": "python3"
  },
  "language_info": {
   "codemirror_mode": {
    "name": "ipython",
    "version": 3
   },
   "file_extension": ".py",
   "mimetype": "text/x-python",
   "name": "python",
   "nbconvert_exporter": "python",
   "pygments_lexer": "ipython3",
   "version": "3.11.1"
  },
  "orig_nbformat": 4,
  "vscode": {
   "interpreter": {
    "hash": "5238573367df39f7286bb46f9ff5f08f63a01a80960060ce41e3c79b190280fa"
   }
  }
 },
 "nbformat": 4,
 "nbformat_minor": 2
}
